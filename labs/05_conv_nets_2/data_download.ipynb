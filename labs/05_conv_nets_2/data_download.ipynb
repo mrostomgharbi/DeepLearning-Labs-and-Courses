{
 "cells": [
  {
   "cell_type": "code",
   "execution_count": 3,
   "metadata": {},
   "outputs": [],
   "source": [
    "# Run this cell before the lab !\n",
    "# It will download PascalVOC dataset (400Mo) and \n",
    "# pre-computed representations of images (450Mo)\n",
    "\n",
    "%matplotlib inline\n",
    "import matplotlib.pyplot as plt\n",
    "import numpy as np\n",
    "import os.path as op\n",
    "\n",
    "import tarfile\n",
    "try:\n",
    "    from urllib.request import urlretrieve\n",
    "except ImportError:  # Python 2 compat\n",
    "    from urllib import urlretrieve\n",
    "\n",
    "\n",
    "URL_VOC = \"http://host.robots.ox.ac.uk/pascal/VOC/voc2007/VOCtrainval_06-Nov-2007.tar\"\n",
    "FILE_VOC = \"VOCtrainval_06-Nov-2007.tar\"\n",
    "FOLDER_VOC = \"VOCdevkit\"\n",
    "\n",
    "if not op.exists(FILE_VOC):\n",
    "    print('Downloading from %s to %s...' % (URL_VOC, FILE_VOC))\n",
    "    urlretrieve(URL_VOC, './' + FILE_VOC)\n",
    "\n",
    "if not op.exists(FOLDER_VOC):\n",
    "    print('Extracting %s...' % FILE_VOC)\n",
    "    tar = tarfile.open(FILE_VOC)\n",
    "    tar.extractall()\n",
    "    tar.close()\n",
    "\n",
    "URL_REPRESENTATIONS = \"https://github.com/m2dsupsdlclass/lectures-labs/releases/download/0.2/voc_representations.h5\"\n",
    "FILE_REPRESENTATIONS = \"voc_representations.h5\"\n",
    "\n",
    "if not op.exists(FILE_REPRESENTATIONS):\n",
    "    print('Downloading from %s to %s...' % (URL_REPRESENTATIONS, FILE_REPRESENTATIONS))\n",
    "    urlretrieve(URL_REPRESENTATIONS, './' + FILE_REPRESENTATIONS)"
   ]
  },
  {
   "cell_type": "code",
   "execution_count": null,
   "metadata": {
    "collapsed": true
   },
   "outputs": [],
   "source": []
  }
 ],
 "metadata": {
  "kernelspec": {
   "display_name": "Python 3",
   "language": "python",
   "name": "python3"
  },
  "language_info": {
   "codemirror_mode": {
    "name": "ipython",
    "version": 3
   },
   "file_extension": ".py",
   "mimetype": "text/x-python",
   "name": "python",
   "nbconvert_exporter": "python",
   "pygments_lexer": "ipython3",
   "version": "3.5.2"
  }
 },
 "nbformat": 4,
 "nbformat_minor": 1
}
