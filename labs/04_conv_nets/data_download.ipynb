{
 "cells": [
  {
   "cell_type": "code",
   "execution_count": null,
   "metadata": {},
   "outputs": [],
   "source": [
    "%matplotlib inline\n",
    "## Run this cell once before the lab to download\n",
    "## the mnist dataset and the pre-trained ResNet50 model. \n",
    "\n",
    "## Keras pre-trained weights\n",
    "from keras.utils.data_utils import get_file\n",
    "get_file('resnet50_weights_tf_dim_ordering_tf_kernels.h5',\n",
    "         'https://github.com/fchollet/deep-learning-models/releases'+\n",
    "         '/download/v0.2/resnet50_weights_tf_dim_ordering_tf_kernels.h5',\n",
    "         cache_subdir='models',\n",
    "         md5_hash='a7b3fe01876f51b976af0dea6bc144eb')"
   ]
  },
  {
   "cell_type": "code",
   "execution_count": null,
   "metadata": {},
   "outputs": [],
   "source": [
    "\n",
    "## Mnist : optional\n",
    "from tensorflow.examples.tutorials.mnist import input_data\n",
    "mnist = input_data.read_data_sets('MNIST_data', one_hot=True)"
   ]
  }
 ],
 "metadata": {
  "kernelspec": {
   "display_name": "Python 3",
   "language": "python",
   "name": "python3"
  },
  "language_info": {
   "codemirror_mode": {
    "name": "ipython",
    "version": 3
   },
   "file_extension": ".py",
   "mimetype": "text/x-python",
   "name": "python",
   "nbconvert_exporter": "python",
   "pygments_lexer": "ipython3",
   "version": "3.5.2"
  }
 },
 "nbformat": 4,
 "nbformat_minor": 2
}
